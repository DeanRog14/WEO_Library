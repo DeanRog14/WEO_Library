{
 "cells": [
  {
   "cell_type": "code",
   "execution_count": 1,
   "id": "dedd4ed4-2e33-4d17-81ae-98993e75e5d6",
   "metadata": {},
   "outputs": [],
   "source": [
    "import weo as w"
   ]
  },
  {
   "cell_type": "code",
   "execution_count": 2,
   "id": "8dc11661-a030-47cb-8910-21bc0e279105",
   "metadata": {},
   "outputs": [],
   "source": [
    "# If you are planning to build something in python download the file as a csv\n",
    "# If you are planning to use in excel download the file as a xls"
   ]
  },
  {
   "cell_type": "code",
   "execution_count": 3,
   "id": "d3fc32b5-ce89-4a49-9306-2d3b0b16c788",
   "metadata": {},
   "outputs": [
    {
     "name": "stdout",
     "output_type": "stream",
     "text": [
      "File downloaded successfully!\n",
      "WEO_2024_April.csv\n"
     ]
    }
   ],
   "source": [
    "# Format to download a specific dataset\n",
    "w.download(2024, \"April\", 'csv')"
   ]
  },
  {
   "cell_type": "code",
   "execution_count": 4,
   "id": "8d22b44d-692b-4b1a-b84b-67d97fee3067",
   "metadata": {},
   "outputs": [
    {
     "name": "stdout",
     "output_type": "stream",
     "text": [
      "File downloaded successfully!\n",
      "WEO_2024_April.xls\n"
     ]
    }
   ],
   "source": [
    "# Format to download a specific dataset\n",
    "w.download(2024, \"April\", 'xls')"
   ]
  },
  {
   "cell_type": "code",
   "execution_count": 5,
   "id": "f7a01bac-1d5f-41fd-96af-ebdc0969e80d",
   "metadata": {},
   "outputs": [],
   "source": [
    "# How to read the csv and ensure it gets formatted properly\n",
    "df = w.reads_csv(\"WEO_2024_April.csv\")"
   ]
  },
  {
   "cell_type": "code",
   "execution_count": 6,
   "id": "6df1be91-cf00-4b1c-94f6-5330cbf69939",
   "metadata": {},
   "outputs": [
    {
     "name": "stdout",
     "output_type": "stream",
     "text": [
      "('NGDP_R', 'Gross domestic product, constant prices', 'National currency')\n",
      "('NGDP_RPCH', 'Gross domestic product, constant prices', 'Percent change')\n",
      "('NGDP', 'Gross domestic product, current prices', 'National currency')\n",
      "('NGDPD', 'Gross domestic product, current prices', 'U.S. dollars')\n",
      "('PPPGDP', 'Gross domestic product, current prices', 'Purchasing power parity; international dollars')\n",
      "('NGDP_D', 'Gross domestic product, deflator', 'Index')\n",
      "('NGDPRPC', 'Gross domestic product per capita, constant prices', 'National currency')\n",
      "('NGDPRPPPPC', 'Gross domestic product per capita, constant prices', 'Purchasing power parity; 2017 international dollar')\n",
      "('NGDPPC', 'Gross domestic product per capita, current prices', 'National currency')\n",
      "('NGDPDPC', 'Gross domestic product per capita, current prices', 'U.S. dollars')\n",
      "('PPPPC', 'Gross domestic product per capita, current prices', 'Purchasing power parity; international dollars')\n",
      "('NGAP_NPGDP', 'Output gap in percent of potential GDP', 'Percent of potential GDP')\n",
      "('PPPSH', 'Gross domestic product based on purchasing-power-parity (PPP) share of world total', 'Percent')\n",
      "('PPPEX', 'Implied PPP conversion rate', 'National currency per current international dollar')\n",
      "('NID_NGDP', 'Total investment', 'Percent of GDP')\n",
      "('NGSD_NGDP', 'Gross national savings', 'Percent of GDP')\n",
      "('PCPI', 'Inflation, average consumer prices', 'Index')\n",
      "('PCPIPCH', 'Inflation, average consumer prices', 'Percent change')\n",
      "('PCPIE', 'Inflation, end of period consumer prices', 'Index')\n",
      "('PCPIEPCH', 'Inflation, end of period consumer prices', 'Percent change')\n",
      "('TM_RPCH', 'Volume of imports of goods and services', 'Percent change')\n",
      "('TMG_RPCH', 'Volume of Imports of goods', 'Percent change')\n",
      "('TX_RPCH', 'Volume of exports of goods and services', 'Percent change')\n",
      "('TXG_RPCH', 'Volume of exports of goods', 'Percent change')\n",
      "('LUR', 'Unemployment rate', 'Percent of total labor force')\n",
      "('LE', 'Employment', 'Persons')\n",
      "('LP', 'Population', 'Persons')\n",
      "('GGR', 'General government revenue', 'National currency')\n",
      "('GGR_NGDP', 'General government revenue', 'Percent of GDP')\n",
      "('GGX', 'General government total expenditure', 'National currency')\n",
      "('GGX_NGDP', 'General government total expenditure', 'Percent of GDP')\n",
      "('GGXCNL', 'General government net lending/borrowing', 'National currency')\n",
      "('GGXCNL_NGDP', 'General government net lending/borrowing', 'Percent of GDP')\n",
      "('GGSB', 'General government structural balance', 'National currency')\n",
      "('GGSB_NPGDP', 'General government structural balance', 'Percent of potential GDP')\n",
      "('GGXONLB', 'General government primary net lending/borrowing', 'National currency')\n",
      "('GGXONLB_NGDP', 'General government primary net lending/borrowing', 'Percent of GDP')\n",
      "('GGXWDN', 'General government net debt', 'National currency')\n",
      "('GGXWDN_NGDP', 'General government net debt', 'Percent of GDP')\n",
      "('GGXWDG', 'General government gross debt', 'National currency')\n",
      "('GGXWDG_NGDP', 'General government gross debt', 'Percent of GDP')\n",
      "('NGDP_FY', 'Gross domestic product corresponding to fiscal year, current prices', 'National currency')\n",
      "('BCA', 'Current account balance', 'U.S. dollars')\n",
      "('BCA_NGDPD', 'Current account balance', 'Percent of GDP')\n"
     ]
    }
   ],
   "source": [
    "# Allows for viewing of variables with the subject code, the description, and then the units\n",
    "df.variables()"
   ]
  },
  {
   "cell_type": "code",
   "execution_count": 7,
   "id": "445cf793-3f54-4e46-b51d-529bf5745ae0",
   "metadata": {},
   "outputs": [
    {
     "data": {
      "text/plain": [
       "['National currency',\n",
       " 'U.S. dollars',\n",
       " 'Purchasing power parity; international dollars']"
      ]
     },
     "execution_count": 7,
     "metadata": {},
     "output_type": "execute_result"
    }
   ],
   "source": [
    "# Prints out all the unique units that are in the dataset\n",
    "df.units()\n",
    "# Can also use a description to find a unit\n",
    "df.units(\"Gross domestic product, current prices\")"
   ]
  },
  {
   "cell_type": "code",
   "execution_count": 8,
   "id": "2da6c5d1-56a7-453d-aae9-3e5b2f915d2a",
   "metadata": {},
   "outputs": [
    {
     "name": "stdout",
     "output_type": "stream",
     "text": [
      "['NGDP_R' 'NGDP_RPCH' 'NGDP' 'NGDPD' 'PPPGDP' 'NGDP_D' 'NGDPRPC'\n",
      " 'NGDPRPPPPC' 'NGDPPC' 'NGDPDPC' 'PPPPC' 'NGAP_NPGDP' 'PPPSH' 'PPPEX'\n",
      " 'NID_NGDP' 'NGSD_NGDP' 'PCPI' 'PCPIPCH' 'PCPIE' 'PCPIEPCH' 'TM_RPCH'\n",
      " 'TMG_RPCH' 'TX_RPCH' 'TXG_RPCH' 'LUR' 'LE' 'LP' 'GGR' 'GGR_NGDP' 'GGX'\n",
      " 'GGX_NGDP' 'GGXCNL' 'GGXCNL_NGDP' 'GGSB' 'GGSB_NPGDP' 'GGXONLB'\n",
      " 'GGXONLB_NGDP' 'GGXWDN' 'GGXWDN_NGDP' 'GGXWDG' 'GGXWDG_NGDP' 'NGDP_FY'\n",
      " 'BCA' 'BCA_NGDPD']\n"
     ]
    }
   ],
   "source": [
    "# Prints out all the unique WEO subject codes\n",
    "df.codes()"
   ]
  },
  {
   "cell_type": "code",
   "execution_count": 9,
   "id": "6aeda4ca-3660-48eb-b122-da5963c480bd",
   "metadata": {},
   "outputs": [
    {
     "data": {
      "text/plain": [
       "('Unemployment rate', 'Percent of total labor force')"
      ]
     },
     "execution_count": 9,
     "metadata": {},
     "output_type": "execute_result"
    }
   ],
   "source": [
    "# Takes a WEO Subject Code and prints out the Unit and Description\n",
    "df.from_code(\"LUR\")"
   ]
  },
  {
   "cell_type": "code",
   "execution_count": 10,
   "id": "fc784ae1-661c-4282-a17e-c4d55e9afe09",
   "metadata": {},
   "outputs": [
    {
     "data": {
      "text/html": [
       "<div>\n",
       "<style scoped>\n",
       "    .dataframe tbody tr th:only-of-type {\n",
       "        vertical-align: middle;\n",
       "    }\n",
       "\n",
       "    .dataframe tbody tr th {\n",
       "        vertical-align: top;\n",
       "    }\n",
       "\n",
       "    .dataframe thead th {\n",
       "        text-align: right;\n",
       "    }\n",
       "</style>\n",
       "<table border=\"1\" class=\"dataframe\">\n",
       "  <thead>\n",
       "    <tr style=\"text-align: right;\">\n",
       "      <th></th>\n",
       "      <th>WEO Country Code</th>\n",
       "      <th>ISO</th>\n",
       "      <th>Country</th>\n",
       "    </tr>\n",
       "  </thead>\n",
       "  <tbody>\n",
       "    <tr>\n",
       "      <th>8096</th>\n",
       "      <td>466</td>\n",
       "      <td>ARE</td>\n",
       "      <td>United Arab Emirates</td>\n",
       "    </tr>\n",
       "    <tr>\n",
       "      <th>8140</th>\n",
       "      <td>112</td>\n",
       "      <td>GBR</td>\n",
       "      <td>United Kingdom</td>\n",
       "    </tr>\n",
       "    <tr>\n",
       "      <th>8184</th>\n",
       "      <td>111</td>\n",
       "      <td>USA</td>\n",
       "      <td>United States</td>\n",
       "    </tr>\n",
       "  </tbody>\n",
       "</table>\n",
       "</div>"
      ],
      "text/plain": [
       "     WEO Country Code  ISO               Country\n",
       "8096              466  ARE  United Arab Emirates\n",
       "8140              112  GBR        United Kingdom\n",
       "8184              111  USA         United States"
      ]
     },
     "execution_count": 10,
     "metadata": {},
     "output_type": "execute_result"
    }
   ],
   "source": [
    "# Returns a small data frame if there are countries with the name\n",
    "df.countries(\"United\")"
   ]
  },
  {
   "cell_type": "code",
   "execution_count": 11,
   "id": "bf24b2e4-8043-4b12-b9bb-4eb2a9f7da63",
   "metadata": {},
   "outputs": [
    {
     "data": {
      "text/plain": [
       "'NLD'"
      ]
     },
     "execution_count": 11,
     "metadata": {},
     "output_type": "execute_result"
    }
   ],
   "source": [
    "# Prints out the 3 letter code associated with the name \n",
    "df.iso_code3(\"Netherlands\")"
   ]
  },
  {
   "cell_type": "code",
   "execution_count": 12,
   "id": "c6b9b451-5eb2-474e-a78b-92570308d605",
   "metadata": {},
   "outputs": [
    {
     "data": {
      "text/plain": [
       "<Axes: title={'center': 'GDP by country, International Dollars billion (2020)'}>"
      ]
     },
     "execution_count": 12,
     "metadata": {},
     "output_type": "execute_result"
    },
    {
     "data": {
      "image/png": "[encoded data removed]",
      "text/plain": [
       "<Figure size 640x480 with 1 Axes>"
      ]
     },
     "metadata": {},
     "output_type": "display_data"
    }
   ],
   "source": [
    "# Makes out a bar chart based on the international dollars\n",
    "(df.gdp_id(2020)\n",
    "  .dropna()\n",
    "  .sort_values()\n",
    "  .tail(12)\n",
    "  .plot\n",
    "  .barh(title=\"GDP by country, International Dollars billion (2020)\")\n",
    ")"
   ]
  },
  {
   "cell_type": "code",
   "execution_count": 14,
   "id": "c5df5369-913f-465d-b656-58975f61e1de",
   "metadata": {},
   "outputs": [
    {
     "data": {
      "text/html": [
       "<div>\n",
       "<style scoped>\n",
       "    .dataframe tbody tr th:only-of-type {\n",
       "        vertical-align: middle;\n",
       "    }\n",
       "\n",
       "    .dataframe tbody tr th {\n",
       "        vertical-align: top;\n",
       "    }\n",
       "\n",
       "    .dataframe thead th {\n",
       "        text-align: right;\n",
       "    }\n",
       "</style>\n",
       "<table border=\"1\" class=\"dataframe\">\n",
       "  <thead>\n",
       "    <tr style=\"text-align: right;\">\n",
       "      <th></th>\n",
       "      <th>2000</th>\n",
       "      <th>2001</th>\n",
       "      <th>2002</th>\n",
       "      <th>2003</th>\n",
       "      <th>2004</th>\n",
       "      <th>2005</th>\n",
       "      <th>2006</th>\n",
       "      <th>2007</th>\n",
       "      <th>2008</th>\n",
       "      <th>2009</th>\n",
       "      <th>2010</th>\n",
       "      <th>2011</th>\n",
       "      <th>2012</th>\n",
       "      <th>2013</th>\n",
       "      <th>2014</th>\n",
       "      <th>2015</th>\n",
       "    </tr>\n",
       "    <tr>\n",
       "      <th></th>\n",
       "      <th></th>\n",
       "      <th></th>\n",
       "      <th></th>\n",
       "      <th></th>\n",
       "      <th></th>\n",
       "      <th></th>\n",
       "      <th></th>\n",
       "      <th></th>\n",
       "      <th></th>\n",
       "      <th></th>\n",
       "      <th></th>\n",
       "      <th></th>\n",
       "      <th></th>\n",
       "      <th></th>\n",
       "      <th></th>\n",
       "      <th></th>\n",
       "    </tr>\n",
       "  </thead>\n",
       "  <tbody>\n",
       "    <tr>\n",
       "      <th>AFG</th>\n",
       "      <td>NaN</td>\n",
       "      <td>NaN</td>\n",
       "      <td>19.663</td>\n",
       "      <td>21.794</td>\n",
       "      <td>22.530</td>\n",
       "      <td>25.985</td>\n",
       "      <td>28.222</td>\n",
       "      <td>32.854</td>\n",
       "      <td>34.780</td>\n",
       "      <td>42.199</td>\n",
       "      <td>46.316</td>\n",
       "      <td>50.334</td>\n",
       "      <td>59.945</td>\n",
       "      <td>63.784</td>\n",
       "      <td>69.444</td>\n",
       "      <td>72.056</td>\n",
       "    </tr>\n",
       "    <tr>\n",
       "      <th>ALB</th>\n",
       "      <td>13.364</td>\n",
       "      <td>14.798</td>\n",
       "      <td>15.709</td>\n",
       "      <td>16.905</td>\n",
       "      <td>18.317</td>\n",
       "      <td>19.935</td>\n",
       "      <td>21.763</td>\n",
       "      <td>23.690</td>\n",
       "      <td>25.958</td>\n",
       "      <td>26.994</td>\n",
       "      <td>28.335</td>\n",
       "      <td>29.655</td>\n",
       "      <td>30.530</td>\n",
       "      <td>30.604</td>\n",
       "      <td>32.529</td>\n",
       "      <td>33.595</td>\n",
       "    </tr>\n",
       "    <tr>\n",
       "      <th>DZA</th>\n",
       "      <td>284.160</td>\n",
       "      <td>299.274</td>\n",
       "      <td>320.319</td>\n",
       "      <td>347.886</td>\n",
       "      <td>373.425</td>\n",
       "      <td>405.782</td>\n",
       "      <td>430.298</td>\n",
       "      <td>455.813</td>\n",
       "      <td>475.987</td>\n",
       "      <td>484.459</td>\n",
       "      <td>513.958</td>\n",
       "      <td>540.261</td>\n",
       "      <td>540.352</td>\n",
       "      <td>545.344</td>\n",
       "      <td>565.630</td>\n",
       "      <td>539.234</td>\n",
       "    </tr>\n",
       "    <tr>\n",
       "      <th>AND</th>\n",
       "      <td>2.221</td>\n",
       "      <td>2.456</td>\n",
       "      <td>2.607</td>\n",
       "      <td>2.890</td>\n",
       "      <td>3.209</td>\n",
       "      <td>3.488</td>\n",
       "      <td>3.769</td>\n",
       "      <td>3.931</td>\n",
       "      <td>3.784</td>\n",
       "      <td>3.606</td>\n",
       "      <td>3.577</td>\n",
       "      <td>3.651</td>\n",
       "      <td>3.571</td>\n",
       "      <td>3.563</td>\n",
       "      <td>3.718</td>\n",
       "      <td>3.784</td>\n",
       "    </tr>\n",
       "    <tr>\n",
       "      <th>AGO</th>\n",
       "      <td>53.643</td>\n",
       "      <td>57.158</td>\n",
       "      <td>65.978</td>\n",
       "      <td>69.293</td>\n",
       "      <td>78.949</td>\n",
       "      <td>93.662</td>\n",
       "      <td>107.700</td>\n",
       "      <td>126.116</td>\n",
       "      <td>142.899</td>\n",
       "      <td>145.015</td>\n",
       "      <td>153.909</td>\n",
       "      <td>162.539</td>\n",
       "      <td>186.124</td>\n",
       "      <td>199.866</td>\n",
       "      <td>220.365</td>\n",
       "      <td>204.604</td>\n",
       "    </tr>\n",
       "    <tr>\n",
       "      <th>...</th>\n",
       "      <td>...</td>\n",
       "      <td>...</td>\n",
       "      <td>...</td>\n",
       "      <td>...</td>\n",
       "      <td>...</td>\n",
       "      <td>...</td>\n",
       "      <td>...</td>\n",
       "      <td>...</td>\n",
       "      <td>...</td>\n",
       "      <td>...</td>\n",
       "      <td>...</td>\n",
       "      <td>...</td>\n",
       "      <td>...</td>\n",
       "      <td>...</td>\n",
       "      <td>...</td>\n",
       "      <td>...</td>\n",
       "    </tr>\n",
       "    <tr>\n",
       "      <th>VNM</th>\n",
       "      <td>197.660</td>\n",
       "      <td>216.045</td>\n",
       "      <td>234.937</td>\n",
       "      <td>257.163</td>\n",
       "      <td>284.648</td>\n",
       "      <td>315.731</td>\n",
       "      <td>348.179</td>\n",
       "      <td>383.108</td>\n",
       "      <td>412.596</td>\n",
       "      <td>437.550</td>\n",
       "      <td>471.314</td>\n",
       "      <td>511.889</td>\n",
       "      <td>568.401</td>\n",
       "      <td>607.018</td>\n",
       "      <td>660.612</td>\n",
       "      <td>700.257</td>\n",
       "    </tr>\n",
       "    <tr>\n",
       "      <th>WBG</th>\n",
       "      <td>7.755</td>\n",
       "      <td>7.191</td>\n",
       "      <td>6.391</td>\n",
       "      <td>7.430</td>\n",
       "      <td>9.303</td>\n",
       "      <td>10.678</td>\n",
       "      <td>10.898</td>\n",
       "      <td>11.617</td>\n",
       "      <td>12.720</td>\n",
       "      <td>13.899</td>\n",
       "      <td>14.880</td>\n",
       "      <td>16.646</td>\n",
       "      <td>19.950</td>\n",
       "      <td>20.886</td>\n",
       "      <td>22.996</td>\n",
       "      <td>25.426</td>\n",
       "    </tr>\n",
       "    <tr>\n",
       "      <th>YEM</th>\n",
       "      <td>51.486</td>\n",
       "      <td>54.648</td>\n",
       "      <td>57.681</td>\n",
       "      <td>61.024</td>\n",
       "      <td>65.154</td>\n",
       "      <td>70.955</td>\n",
       "      <td>75.462</td>\n",
       "      <td>80.094</td>\n",
       "      <td>84.615</td>\n",
       "      <td>88.428</td>\n",
       "      <td>96.397</td>\n",
       "      <td>85.876</td>\n",
       "      <td>85.441</td>\n",
       "      <td>92.756</td>\n",
       "      <td>94.193</td>\n",
       "      <td>68.454</td>\n",
       "    </tr>\n",
       "    <tr>\n",
       "      <th>ZMB</th>\n",
       "      <td>17.116</td>\n",
       "      <td>18.432</td>\n",
       "      <td>19.562</td>\n",
       "      <td>21.333</td>\n",
       "      <td>23.448</td>\n",
       "      <td>25.933</td>\n",
       "      <td>28.845</td>\n",
       "      <td>32.101</td>\n",
       "      <td>35.263</td>\n",
       "      <td>38.752</td>\n",
       "      <td>43.263</td>\n",
       "      <td>46.612</td>\n",
       "      <td>49.509</td>\n",
       "      <td>53.420</td>\n",
       "      <td>54.506</td>\n",
       "      <td>54.473</td>\n",
       "    </tr>\n",
       "    <tr>\n",
       "      <th>ZWE</th>\n",
       "      <td>28.183</td>\n",
       "      <td>28.687</td>\n",
       "      <td>26.888</td>\n",
       "      <td>22.971</td>\n",
       "      <td>22.109</td>\n",
       "      <td>21.112</td>\n",
       "      <td>20.989</td>\n",
       "      <td>20.825</td>\n",
       "      <td>17.761</td>\n",
       "      <td>19.193</td>\n",
       "      <td>23.249</td>\n",
       "      <td>27.098</td>\n",
       "      <td>31.163</td>\n",
       "      <td>34.191</td>\n",
       "      <td>35.502</td>\n",
       "      <td>37.028</td>\n",
       "    </tr>\n",
       "  </tbody>\n",
       "</table>\n",
       "<p>196 rows × 16 columns</p>\n",
       "</div>"
      ],
      "text/plain": [
       "        2000     2001     2002     2003     2004     2005     2006     2007  \\\n",
       "                                                                              \n",
       "AFG      NaN      NaN   19.663   21.794   22.530   25.985   28.222   32.854   \n",
       "ALB   13.364   14.798   15.709   16.905   18.317   19.935   21.763   23.690   \n",
       "DZA  284.160  299.274  320.319  347.886  373.425  405.782  430.298  455.813   \n",
       "AND    2.221    2.456    2.607    2.890    3.209    3.488    3.769    3.931   \n",
       "AGO   53.643   57.158   65.978   69.293   78.949   93.662  107.700  126.116   \n",
       "..       ...      ...      ...      ...      ...      ...      ...      ...   \n",
       "VNM  197.660  216.045  234.937  257.163  284.648  315.731  348.179  383.108   \n",
       "WBG    7.755    7.191    6.391    7.430    9.303   10.678   10.898   11.617   \n",
       "YEM   51.486   54.648   57.681   61.024   65.154   70.955   75.462   80.094   \n",
       "ZMB   17.116   18.432   19.562   21.333   23.448   25.933   28.845   32.101   \n",
       "ZWE   28.183   28.687   26.888   22.971   22.109   21.112   20.989   20.825   \n",
       "\n",
       "        2008     2009     2010     2011     2012     2013     2014     2015  \n",
       "                                                                             \n",
       "AFG   34.780   42.199   46.316   50.334   59.945   63.784   69.444   72.056  \n",
       "ALB   25.958   26.994   28.335   29.655   30.530   30.604   32.529   33.595  \n",
       "DZA  475.987  484.459  513.958  540.261  540.352  545.344  565.630  539.234  \n",
       "AND    3.784    3.606    3.577    3.651    3.571    3.563    3.718    3.784  \n",
       "AGO  142.899  145.015  153.909  162.539  186.124  199.866  220.365  204.604  \n",
       "..       ...      ...      ...      ...      ...      ...      ...      ...  \n",
       "VNM  412.596  437.550  471.314  511.889  568.401  607.018  660.612  700.257  \n",
       "WBG   12.720   13.899   14.880   16.646   19.950   20.886   22.996   25.426  \n",
       "YEM   84.615   88.428   96.397   85.876   85.441   92.756   94.193   68.454  \n",
       "ZMB   35.263   38.752   43.263   46.612   49.509   53.420   54.506   54.473  \n",
       "ZWE   17.761   19.193   23.249   27.098   31.163   34.191   35.502   37.028  \n",
       "\n",
       "[196 rows x 16 columns]"
      ]
     },
     "execution_count": 14,
     "metadata": {},
     "output_type": "execute_result"
    }
   ],
   "source": [
    "# Allows to get gdp based on a money type over a period of time\n",
    "df.gdp_ppp(start_year=2000, end_year=2015)"
   ]
  }
 ],
 "metadata": {
  "kernelspec": {
   "display_name": "Python 3 (ipykernel)",
   "language": "python",
   "name": "python3"
  },
  "language_info": {
   "codemirror_mode": {
    "name": "ipython",
    "version": 3
   },
   "file_extension": ".py",
   "mimetype": "text/x-python",
   "name": "python",
   "nbconvert_exporter": "python",
   "pygments_lexer": "ipython3",
   "version": "3.12.7"
  }
 },
 "nbformat": 4,
 "nbformat_minor": 5
}
